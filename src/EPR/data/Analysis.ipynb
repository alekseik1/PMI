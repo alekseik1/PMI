{
 "cells": [
  {
   "cell_type": "code",
   "execution_count": 1,
   "metadata": {},
   "outputs": [],
   "source": [
    "import numpy as np\n",
    "import pandas as pd\n",
    "import matplotlib.pyplot as plt"
   ]
  },
  {
   "cell_type": "code",
   "execution_count": 2,
   "metadata": {},
   "outputs": [],
   "source": [
    "def to_oersted(data):\n",
    "    return data/79.9"
   ]
  },
  {
   "cell_type": "code",
   "execution_count": 3,
   "metadata": {},
   "outputs": [],
   "source": [
    "# TODO: переименовать в `plot_data`\n",
    "def plot_lines(*args, **kwargs):\n",
    "    \"\"\"\n",
    "    Рисует графики. Пример (нарисует линии):\n",
    "    >>> plot_lines(([1, 2], [2, 3], 'name'), ([3, 4, 5], [9, 16, 25], 'name2'))\n",
    "    :param args: Кортеж из данных\n",
    "    :param kwargs: Сюда можно передать 'title', и он отобразится в графике\n",
    "    \"\"\"\n",
    "    title = kwargs.get('title')\n",
    "    x_label, y_label = kwargs.get('x_label'), kwargs.get('y_label')\n",
    "    is_scatter_global, save_to = kwargs.get('is_scatter'), kwargs.get('save_to')\n",
    "    legend_position = kwargs.get('legend_position')\n",
    "    if legend_position is None:\n",
    "        legend_position = 'lower left'\n",
    "    for (x_data, *y_data) in args:\n",
    "        # Если передали title, то его\n",
    "        has_label = False\n",
    "        is_temp_reverse = False\n",
    "        if len(y_data) == 2:\n",
    "            has_label = True\n",
    "            label = y_data[1]\n",
    "            y_data = y_data[0]\n",
    "        elif len(y_data) == 1:\n",
    "            y_data = y_data[0]\n",
    "        elif len(y_data) > 2:\n",
    "            # Если передали, что это должна быть линия\n",
    "            has_label = True\n",
    "            label = y_data[1]\n",
    "            y_data = y_data[0]\n",
    "            is_temp_reverse = y_data[2]\n",
    "        if is_temp_reverse:\n",
    "            is_scatter = not is_scatter_global\n",
    "        else:\n",
    "            is_scatter = is_scatter_global\n",
    "        if has_label:\n",
    "            if not is_scatter:\n",
    "                plt.plot(x_data, y_data, label=label)\n",
    "            else:\n",
    "                plt.scatter(x_data, y_data, label=label, marker='x')\n",
    "            plt.legend(loc=legend_position)\n",
    "        else:\n",
    "            if not is_scatter:\n",
    "                plt.plot(x_data, y_data)\n",
    "            else:\n",
    "                plt.scatter(x_data, y_data, marker='x')\n",
    "    if title:\n",
    "        plt.title(title)\n",
    "    if x_label:\n",
    "        plt.xlabel(x_label)\n",
    "    if y_label:\n",
    "        plt.ylabel(y_label)\n",
    "    plt.grid()\n",
    "    if save_to:\n",
    "        plt.savefig(save_to)\n",
    "    plt.show()"
   ]
  },
  {
   "cell_type": "code",
   "execution_count": 4,
   "metadata": {},
   "outputs": [],
   "source": [
    "df = pd.read_csv('dfpg_all.csv', sep=';')"
   ]
  },
  {
   "cell_type": "code",
   "execution_count": 5,
   "metadata": {},
   "outputs": [
    {
     "data": {
      "text/html": [
       "<div>\n",
       "<style scoped>\n",
       "    .dataframe tbody tr th:only-of-type {\n",
       "        vertical-align: middle;\n",
       "    }\n",
       "\n",
       "    .dataframe tbody tr th {\n",
       "        vertical-align: top;\n",
       "    }\n",
       "\n",
       "    .dataframe thead th {\n",
       "        text-align: right;\n",
       "    }\n",
       "</style>\n",
       "<table border=\"1\" class=\"dataframe\">\n",
       "  <thead>\n",
       "    <tr style=\"text-align: right;\">\n",
       "      <th></th>\n",
       "      <th>field,G</th>\n",
       "      <th>intensity,a.u.</th>\n",
       "      <th>I, A</th>\n",
       "    </tr>\n",
       "  </thead>\n",
       "  <tbody>\n",
       "    <tr>\n",
       "      <th>0</th>\n",
       "      <td>3268.14</td>\n",
       "      <td>2039</td>\n",
       "      <td>0.5</td>\n",
       "    </tr>\n",
       "    <tr>\n",
       "      <th>1</th>\n",
       "      <td>3268.24</td>\n",
       "      <td>2039</td>\n",
       "      <td>0.5</td>\n",
       "    </tr>\n",
       "    <tr>\n",
       "      <th>2</th>\n",
       "      <td>3268.34</td>\n",
       "      <td>2042</td>\n",
       "      <td>0.5</td>\n",
       "    </tr>\n",
       "    <tr>\n",
       "      <th>3</th>\n",
       "      <td>3268.44</td>\n",
       "      <td>2043</td>\n",
       "      <td>0.5</td>\n",
       "    </tr>\n",
       "    <tr>\n",
       "      <th>4</th>\n",
       "      <td>3268.54</td>\n",
       "      <td>2044</td>\n",
       "      <td>0.5</td>\n",
       "    </tr>\n",
       "    <tr>\n",
       "      <th>5</th>\n",
       "      <td>3268.64</td>\n",
       "      <td>2046</td>\n",
       "      <td>0.5</td>\n",
       "    </tr>\n",
       "    <tr>\n",
       "      <th>6</th>\n",
       "      <td>3268.74</td>\n",
       "      <td>2044</td>\n",
       "      <td>0.5</td>\n",
       "    </tr>\n",
       "  </tbody>\n",
       "</table>\n",
       "</div>"
      ],
      "text/plain": [
       "   field,G  intensity,a.u.  I, A\n",
       "0  3268.14            2039   0.5\n",
       "1  3268.24            2039   0.5\n",
       "2  3268.34            2042   0.5\n",
       "3  3268.44            2043   0.5\n",
       "4  3268.54            2044   0.5\n",
       "5  3268.64            2046   0.5\n",
       "6  3268.74            2044   0.5"
      ]
     },
     "execution_count": 5,
     "metadata": {},
     "output_type": "execute_result"
    }
   ],
   "source": [
    "df[df['I, A'] == 0.5]"
   ]
  },
  {
   "cell_type": "markdown",
   "metadata": {},
   "source": [
    "## ДФПГ-спектр"
   ]
  },
  {
   "cell_type": "code",
   "execution_count": 6,
   "metadata": {},
   "outputs": [
    {
     "data": {
      "image/png": "[encoded data removed]",
      "text/plain": [
       "<Figure size 432x288 with 1 Axes>"
      ]
     },
     "metadata": {
      "needs_background": "light"
     },
     "output_type": "display_data"
    }
   ],
   "source": [
    "lines_data = []\n",
    "for I in sorted(df['I, A'].unique()):\n",
    "    lines_data.append((to_oersted(df[df['I, A'] == I]['field,G']),\n",
    "                       df[df['I, A'] == I]['intensity,a.u.'], \n",
    "                       'I=%s A'%I))\n",
    "plot_lines(\n",
    "    *lines_data, \n",
    "    title='Спектр ДФПГ для разных токов', x_label=r'$H$, Oersted', y_label=r'Intensity, a.u.',\n",
    "    save_to='dfpg.pdf'       \n",
    ")"
   ]
  },
  {
   "cell_type": "markdown",
   "metadata": {},
   "source": [
    "## Аппроксимация кривыми Гаусса и Лоренца"
   ]
  },
  {
   "cell_type": "markdown",
   "metadata": {},
   "source": [
    "Будем считать, что все контуры лоренцевы и тогда\n",
    "$$\n",
    "\\Delta H_\\text{max} = \\dfrac{2}{\\sqrt{3}} \\delta H\n",
    "$$\n",
    "Надо подсчитать $\\Delta H_\\text{max}$ как расстояние между экстремумами на графике, потом его вбить в эту формулу, получить $\\delta H$, построить график $\\delta H = f(I)$.\n",
    "\n",
    "$\\Delta H_\\text{max}$ получим из анализа по программе из архива (привет, *Windows XP*)."
   ]
  },
  {
   "cell_type": "code",
   "execution_count": 7,
   "metadata": {},
   "outputs": [
    {
     "data": {
      "text/html": [
       "<div>\n",
       "<style scoped>\n",
       "    .dataframe tbody tr th:only-of-type {\n",
       "        vertical-align: middle;\n",
       "    }\n",
       "\n",
       "    .dataframe tbody tr th {\n",
       "        vertical-align: top;\n",
       "    }\n",
       "\n",
       "    .dataframe thead th {\n",
       "        text-align: right;\n",
       "    }\n",
       "</style>\n",
       "<table border=\"1\" class=\"dataframe\">\n",
       "  <thead>\n",
       "    <tr style=\"text-align: right;\">\n",
       "      <th></th>\n",
       "      <th>\\Delta H</th>\n",
       "      <th>I</th>\n",
       "      <th>\\delta H</th>\n",
       "    </tr>\n",
       "  </thead>\n",
       "  <tbody>\n",
       "    <tr>\n",
       "      <th>0</th>\n",
       "      <td>2.253</td>\n",
       "      <td>0.25</td>\n",
       "      <td>1.062074</td>\n",
       "    </tr>\n",
       "    <tr>\n",
       "      <th>1</th>\n",
       "      <td>2.954</td>\n",
       "      <td>0.75</td>\n",
       "      <td>1.392529</td>\n",
       "    </tr>\n",
       "    <tr>\n",
       "      <th>2</th>\n",
       "      <td>3.354</td>\n",
       "      <td>1.00</td>\n",
       "      <td>1.581091</td>\n",
       "    </tr>\n",
       "    <tr>\n",
       "      <th>3</th>\n",
       "      <td>3.842</td>\n",
       "      <td>1.25</td>\n",
       "      <td>1.811136</td>\n",
       "    </tr>\n",
       "    <tr>\n",
       "      <th>4</th>\n",
       "      <td>4.618</td>\n",
       "      <td>1.50</td>\n",
       "      <td>2.176946</td>\n",
       "    </tr>\n",
       "    <tr>\n",
       "      <th>5</th>\n",
       "      <td>5.119</td>\n",
       "      <td>1.75</td>\n",
       "      <td>2.413120</td>\n",
       "    </tr>\n",
       "  </tbody>\n",
       "</table>\n",
       "</div>"
      ],
      "text/plain": [
       "   \\Delta H     I  \\delta H\n",
       "0     2.253  0.25  1.062074\n",
       "1     2.954  0.75  1.392529\n",
       "2     3.354  1.00  1.581091\n",
       "3     3.842  1.25  1.811136\n",
       "4     4.618  1.50  2.176946\n",
       "5     5.119  1.75  2.413120"
      ]
     },
     "execution_count": 7,
     "metadata": {},
     "output_type": "execute_result"
    }
   ],
   "source": [
    "df_deltaH = pd.read_csv('deltaH.csv', sep=';')\n",
    "df_deltaH"
   ]
  },
  {
   "cell_type": "code",
   "execution_count": 8,
   "metadata": {},
   "outputs": [],
   "source": [
    "def get_regression_results(data, x_label='ms', y_label='%'):\n",
    "    \"\"\"\n",
    "    Считает линейную регрессию по данным и возвращает ее параметры:\n",
    "    >>> get_regression_results([[1, 2, 3], [4, 5, 6]])\n",
    "    :param data: Данные для регрессии, двумерный датафрейм\n",
    "    :param x_label: Имя колонки, которая будет использована как 'x'\n",
    "    :param y_label: Имя колонки, которая будет использована как 'y'\n",
    "    :returns: (slope, intercept, std_err), reg_data\n",
    "    \"\"\"\n",
    "    from scipy.stats import linregress\n",
    "    import numpy as np\n",
    "    x, y = data.copy()[x_label], data.copy()[y_label]\n",
    "    slope, intercept, r_value, p_value, std_err = linregress(x,y)\n",
    "    new_x = np.linspace(np.min(x)*0.9, np.max(x)*1.1, 10*5)\n",
    "    new_y = new_x*slope + intercept\n",
    "    return (slope, intercept, std_err), np.array([new_x, new_y])"
   ]
  },
  {
   "cell_type": "code",
   "execution_count": 9,
   "metadata": {
    "scrolled": true
   },
   "outputs": [
    {
     "data": {
      "image/png": "[encoded data removed]",
      "text/plain": [
       "<Figure size 432x288 with 1 Axes>"
      ]
     },
     "metadata": {
      "needs_background": "light"
     },
     "output_type": "display_data"
    }
   ],
   "source": [
    "x, y = df_deltaH['I'], df_deltaH['\\delta H']\n",
    "(slope, intercept, std_err), new_data = get_regression_results(df_deltaH, x_label='I', y_label='\\delta H')\n",
    "\n",
    "plot_lines(\n",
    "    (x, y, 'Experiment'),\n",
    "    (*new_data, 'Regression', True),\n",
    "    title=r'$\\delta H = f(I)$', x_label=r'$I$, A', y_label=r'$\\delta H$, Oersted', is_scatter=True,\n",
    "    legend_position='upper left', save_to='deltaH_I.pdf'\n",
    ")"
   ]
  },
  {
   "cell_type": "code",
   "execution_count": 10,
   "metadata": {},
   "outputs": [
    {
     "name": "stdout",
     "output_type": "stream",
     "text": [
      "0.9165720131428569\n"
     ]
    }
   ],
   "source": [
    "print(slope)"
   ]
  },
  {
   "cell_type": "markdown",
   "metadata": {},
   "source": [
    "Вывод: с увеличением тока сигнал размазывается, поэтому разумно устанавливать ток модуляции не более 1,75 А. Максимально возможная амплитуда модуляции должна быть меньше максимально достижимой полуширины пика. Эта величина порядка 3,5 Э. "
   ]
  },
  {
   "cell_type": "markdown",
   "metadata": {},
   "source": [
    "## Зависимость $\\delta H = f(C)$ для ионов $Mn^{2+}$"
   ]
  },
  {
   "cell_type": "code",
   "execution_count": 11,
   "metadata": {
    "scrolled": true
   },
   "outputs": [
    {
     "data": {
      "text/html": [
       "<div>\n",
       "<style scoped>\n",
       "    .dataframe tbody tr th:only-of-type {\n",
       "        vertical-align: middle;\n",
       "    }\n",
       "\n",
       "    .dataframe tbody tr th {\n",
       "        vertical-align: top;\n",
       "    }\n",
       "\n",
       "    .dataframe thead th {\n",
       "        text-align: right;\n",
       "    }\n",
       "</style>\n",
       "<table border=\"1\" class=\"dataframe\">\n",
       "  <thead>\n",
       "    <tr style=\"text-align: right;\">\n",
       "      <th></th>\n",
       "      <th>DeltaH</th>\n",
       "      <th>C</th>\n",
       "      <th>deltaH</th>\n",
       "    </tr>\n",
       "  </thead>\n",
       "  <tbody>\n",
       "    <tr>\n",
       "      <th>0</th>\n",
       "      <td>19.99</td>\n",
       "      <td>0.05</td>\n",
       "      <td>17.311848</td>\n",
       "    </tr>\n",
       "    <tr>\n",
       "      <th>1</th>\n",
       "      <td>18.91</td>\n",
       "      <td>0.10</td>\n",
       "      <td>16.376540</td>\n",
       "    </tr>\n",
       "    <tr>\n",
       "      <th>2</th>\n",
       "      <td>23.23</td>\n",
       "      <td>0.20</td>\n",
       "      <td>20.117770</td>\n",
       "    </tr>\n",
       "    <tr>\n",
       "      <th>3</th>\n",
       "      <td>25.39</td>\n",
       "      <td>0.40</td>\n",
       "      <td>21.988385</td>\n",
       "    </tr>\n",
       "    <tr>\n",
       "      <th>4</th>\n",
       "      <td>38.35</td>\n",
       "      <td>0.80</td>\n",
       "      <td>33.212074</td>\n",
       "    </tr>\n",
       "  </tbody>\n",
       "</table>\n",
       "</div>"
      ],
      "text/plain": [
       "   DeltaH     C     deltaH\n",
       "0   19.99  0.05  17.311848\n",
       "1   18.91  0.10  16.376540\n",
       "2   23.23  0.20  20.117770\n",
       "3   25.39  0.40  21.988385\n",
       "4   38.35  0.80  33.212074"
      ]
     },
     "execution_count": 11,
     "metadata": {},
     "output_type": "execute_result"
    }
   ],
   "source": [
    "df_Mn = pd.read_csv('p2_deltaH_C.csv', sep=';')\n",
    "df_Mn.head()"
   ]
  },
  {
   "cell_type": "markdown",
   "metadata": {},
   "source": [
    "$\\gamma = 17.6 \\cdot 10^6 \\text{Oersted}^{-1}$"
   ]
  },
  {
   "cell_type": "code",
   "execution_count": 34,
   "metadata": {},
   "outputs": [
    {
     "data": {
      "image/png": "[encoded data removed]",
      "text/plain": [
       "<Figure size 432x288 with 1 Axes>"
      ]
     },
     "metadata": {
      "needs_background": "light"
     },
     "output_type": "display_data"
    }
   ],
   "source": [
    "x, y = df_Mn['C'], df_Mn['deltaH']\n",
    "(slope, intercept, std_err), new_data = get_regression_results(df_Mn, 'C', 'deltaH')\n",
    "plot_lines(\n",
    "    (x, y, 'Experiment'),\n",
    "    (*new_data, 'Regression', True),\n",
    "    title=r'$\\Delta H$ = f(C)', is_scatter=True, legend_position='upper left',\n",
    "    x_label=r'$C$, M', y_label=r'$\\Delta H$, Oersted', save_to='delta_H_C.pdf'\n",
    ")"
   ]
  },
  {
   "cell_type": "code",
   "execution_count": 35,
   "metadata": {},
   "outputs": [
    {
     "name": "stdout",
     "output_type": "stream",
     "text": [
      "21.773554833870968\n"
     ]
    }
   ],
   "source": [
    "print(slope)"
   ]
  },
  {
   "cell_type": "code",
   "execution_count": 14,
   "metadata": {},
   "outputs": [
    {
     "data": {
      "text/plain": [
       "383214565.0761291"
      ]
     },
     "execution_count": 14,
     "metadata": {},
     "output_type": "execute_result"
    }
   ],
   "source": [
    "K = slope*17.6*10**6\n",
    "K"
   ]
  },
  {
   "cell_type": "markdown",
   "metadata": {},
   "source": [
    "## Порошок соли $Mn^{2+}$"
   ]
  },
  {
   "cell_type": "code",
   "execution_count": 15,
   "metadata": {},
   "outputs": [
    {
     "data": {
      "text/html": [
       "<div>\n",
       "<style scoped>\n",
       "    .dataframe tbody tr th:only-of-type {\n",
       "        vertical-align: middle;\n",
       "    }\n",
       "\n",
       "    .dataframe tbody tr th {\n",
       "        vertical-align: top;\n",
       "    }\n",
       "\n",
       "    .dataframe thead th {\n",
       "        text-align: right;\n",
       "    }\n",
       "</style>\n",
       "<table border=\"1\" class=\"dataframe\">\n",
       "  <thead>\n",
       "    <tr style=\"text-align: right;\">\n",
       "      <th></th>\n",
       "      <th>field,G</th>\n",
       "      <th>intensity,a.u.</th>\n",
       "    </tr>\n",
       "  </thead>\n",
       "  <tbody>\n",
       "    <tr>\n",
       "      <th>0</th>\n",
       "      <td>3019.0</td>\n",
       "      <td>3523</td>\n",
       "    </tr>\n",
       "    <tr>\n",
       "      <th>1</th>\n",
       "      <td>3019.1</td>\n",
       "      <td>3526</td>\n",
       "    </tr>\n",
       "    <tr>\n",
       "      <th>2</th>\n",
       "      <td>3019.2</td>\n",
       "      <td>3524</td>\n",
       "    </tr>\n",
       "    <tr>\n",
       "      <th>3</th>\n",
       "      <td>3019.3</td>\n",
       "      <td>3526</td>\n",
       "    </tr>\n",
       "    <tr>\n",
       "      <th>4</th>\n",
       "      <td>3019.4</td>\n",
       "      <td>3525</td>\n",
       "    </tr>\n",
       "  </tbody>\n",
       "</table>\n",
       "</div>"
      ],
      "text/plain": [
       "   field,G  intensity,a.u.\n",
       "0   3019.0            3523\n",
       "1   3019.1            3526\n",
       "2   3019.2            3524\n",
       "3   3019.3            3526\n",
       "4   3019.4            3525"
      ]
     },
     "execution_count": 15,
     "metadata": {},
     "output_type": "execute_result"
    }
   ],
   "source": [
    "df_crystall = pd.read_csv('p2_crystal_Mn.epr.csv', sep=';')\n",
    "df_crystall.head()"
   ]
  },
  {
   "cell_type": "code",
   "execution_count": 16,
   "metadata": {},
   "outputs": [],
   "source": [
    "# Перевод в Эрнстед\n",
    "df_crystall['field,G'] = to_oersted(df_crystall['field,G'])"
   ]
  },
  {
   "cell_type": "code",
   "execution_count": 17,
   "metadata": {},
   "outputs": [
    {
     "data": {
      "image/png": "[encoded data removed]",
      "text/plain": [
       "<Figure size 432x288 with 1 Axes>"
      ]
     },
     "metadata": {
      "needs_background": "light"
     },
     "output_type": "display_data"
    }
   ],
   "source": [
    "x, y = df_crystall['field,G'], df_crystall['intensity,a.u.']\n",
    "plot_lines(\n",
    "    (x, y),\n",
    "    x_label=r'$H$, Oersted', y_label=r'intensity, a.u.', title=r'Спектр кристаллической соли',\n",
    "    save_to='Crystalls.pdf'\n",
    ")"
   ]
  },
  {
   "cell_type": "markdown",
   "metadata": {},
   "source": [
    "## Порошок мела"
   ]
  },
  {
   "cell_type": "code",
   "execution_count": 65,
   "metadata": {},
   "outputs": [
    {
     "data": {
      "text/html": [
       "<div>\n",
       "<style scoped>\n",
       "    .dataframe tbody tr th:only-of-type {\n",
       "        vertical-align: middle;\n",
       "    }\n",
       "\n",
       "    .dataframe tbody tr th {\n",
       "        vertical-align: top;\n",
       "    }\n",
       "\n",
       "    .dataframe thead th {\n",
       "        text-align: right;\n",
       "    }\n",
       "</style>\n",
       "<table border=\"1\" class=\"dataframe\">\n",
       "  <thead>\n",
       "    <tr style=\"text-align: right;\">\n",
       "      <th></th>\n",
       "      <th>field,G</th>\n",
       "      <th>intensity,a.u.</th>\n",
       "    </tr>\n",
       "  </thead>\n",
       "  <tbody>\n",
       "    <tr>\n",
       "      <th>0</th>\n",
       "      <td>3019.00</td>\n",
       "      <td>2537</td>\n",
       "    </tr>\n",
       "    <tr>\n",
       "      <th>1</th>\n",
       "      <td>3019.10</td>\n",
       "      <td>2537</td>\n",
       "    </tr>\n",
       "    <tr>\n",
       "      <th>2</th>\n",
       "      <td>3019.20</td>\n",
       "      <td>2537</td>\n",
       "    </tr>\n",
       "    <tr>\n",
       "      <th>3</th>\n",
       "      <td>3019.30</td>\n",
       "      <td>2536</td>\n",
       "    </tr>\n",
       "    <tr>\n",
       "      <th>4</th>\n",
       "      <td>3019.40</td>\n",
       "      <td>2535</td>\n",
       "    </tr>\n",
       "    <tr>\n",
       "      <th>5</th>\n",
       "      <td>3019.50</td>\n",
       "      <td>2534</td>\n",
       "    </tr>\n",
       "    <tr>\n",
       "      <th>6</th>\n",
       "      <td>3019.60</td>\n",
       "      <td>2531</td>\n",
       "    </tr>\n",
       "    <tr>\n",
       "      <th>7</th>\n",
       "      <td>3019.70</td>\n",
       "      <td>2533</td>\n",
       "    </tr>\n",
       "    <tr>\n",
       "      <th>8</th>\n",
       "      <td>3019.80</td>\n",
       "      <td>2530</td>\n",
       "    </tr>\n",
       "    <tr>\n",
       "      <th>9</th>\n",
       "      <td>3019.90</td>\n",
       "      <td>2528</td>\n",
       "    </tr>\n",
       "    <tr>\n",
       "      <th>10</th>\n",
       "      <td>3020.00</td>\n",
       "      <td>2526</td>\n",
       "    </tr>\n",
       "    <tr>\n",
       "      <th>11</th>\n",
       "      <td>3020.10</td>\n",
       "      <td>2525</td>\n",
       "    </tr>\n",
       "    <tr>\n",
       "      <th>12</th>\n",
       "      <td>3020.20</td>\n",
       "      <td>2529</td>\n",
       "    </tr>\n",
       "    <tr>\n",
       "      <th>13</th>\n",
       "      <td>3020.30</td>\n",
       "      <td>2527</td>\n",
       "    </tr>\n",
       "    <tr>\n",
       "      <th>14</th>\n",
       "      <td>3020.40</td>\n",
       "      <td>2526</td>\n",
       "    </tr>\n",
       "    <tr>\n",
       "      <th>15</th>\n",
       "      <td>3020.50</td>\n",
       "      <td>2526</td>\n",
       "    </tr>\n",
       "    <tr>\n",
       "      <th>16</th>\n",
       "      <td>3020.60</td>\n",
       "      <td>2528</td>\n",
       "    </tr>\n",
       "    <tr>\n",
       "      <th>17</th>\n",
       "      <td>3020.70</td>\n",
       "      <td>2534</td>\n",
       "    </tr>\n",
       "    <tr>\n",
       "      <th>18</th>\n",
       "      <td>3020.80</td>\n",
       "      <td>2530</td>\n",
       "    </tr>\n",
       "    <tr>\n",
       "      <th>19</th>\n",
       "      <td>3020.90</td>\n",
       "      <td>2532</td>\n",
       "    </tr>\n",
       "    <tr>\n",
       "      <th>20</th>\n",
       "      <td>3021.00</td>\n",
       "      <td>2529</td>\n",
       "    </tr>\n",
       "    <tr>\n",
       "      <th>21</th>\n",
       "      <td>3021.10</td>\n",
       "      <td>2524</td>\n",
       "    </tr>\n",
       "    <tr>\n",
       "      <th>22</th>\n",
       "      <td>3021.20</td>\n",
       "      <td>2525</td>\n",
       "    </tr>\n",
       "    <tr>\n",
       "      <th>23</th>\n",
       "      <td>3021.30</td>\n",
       "      <td>2523</td>\n",
       "    </tr>\n",
       "    <tr>\n",
       "      <th>24</th>\n",
       "      <td>3021.40</td>\n",
       "      <td>2527</td>\n",
       "    </tr>\n",
       "    <tr>\n",
       "      <th>25</th>\n",
       "      <td>3021.50</td>\n",
       "      <td>2528</td>\n",
       "    </tr>\n",
       "    <tr>\n",
       "      <th>26</th>\n",
       "      <td>3021.60</td>\n",
       "      <td>2528</td>\n",
       "    </tr>\n",
       "    <tr>\n",
       "      <th>27</th>\n",
       "      <td>3021.70</td>\n",
       "      <td>2529</td>\n",
       "    </tr>\n",
       "    <tr>\n",
       "      <th>28</th>\n",
       "      <td>3021.80</td>\n",
       "      <td>2527</td>\n",
       "    </tr>\n",
       "    <tr>\n",
       "      <th>29</th>\n",
       "      <td>3021.90</td>\n",
       "      <td>2528</td>\n",
       "    </tr>\n",
       "    <tr>\n",
       "      <th>...</th>\n",
       "      <td>...</td>\n",
       "      <td>...</td>\n",
       "    </tr>\n",
       "    <tr>\n",
       "      <th>8130</th>\n",
       "      <td>3833.02</td>\n",
       "      <td>2556</td>\n",
       "    </tr>\n",
       "    <tr>\n",
       "      <th>8131</th>\n",
       "      <td>3833.12</td>\n",
       "      <td>2557</td>\n",
       "    </tr>\n",
       "    <tr>\n",
       "      <th>8132</th>\n",
       "      <td>3833.22</td>\n",
       "      <td>2555</td>\n",
       "    </tr>\n",
       "    <tr>\n",
       "      <th>8133</th>\n",
       "      <td>3833.32</td>\n",
       "      <td>2553</td>\n",
       "    </tr>\n",
       "    <tr>\n",
       "      <th>8134</th>\n",
       "      <td>3833.42</td>\n",
       "      <td>2552</td>\n",
       "    </tr>\n",
       "    <tr>\n",
       "      <th>8135</th>\n",
       "      <td>3833.52</td>\n",
       "      <td>2554</td>\n",
       "    </tr>\n",
       "    <tr>\n",
       "      <th>8136</th>\n",
       "      <td>3833.62</td>\n",
       "      <td>2552</td>\n",
       "    </tr>\n",
       "    <tr>\n",
       "      <th>8137</th>\n",
       "      <td>3833.72</td>\n",
       "      <td>2552</td>\n",
       "    </tr>\n",
       "    <tr>\n",
       "      <th>8138</th>\n",
       "      <td>3833.82</td>\n",
       "      <td>2550</td>\n",
       "    </tr>\n",
       "    <tr>\n",
       "      <th>8139</th>\n",
       "      <td>3833.92</td>\n",
       "      <td>2554</td>\n",
       "    </tr>\n",
       "    <tr>\n",
       "      <th>8140</th>\n",
       "      <td>3834.02</td>\n",
       "      <td>2554</td>\n",
       "    </tr>\n",
       "    <tr>\n",
       "      <th>8141</th>\n",
       "      <td>3834.12</td>\n",
       "      <td>2553</td>\n",
       "    </tr>\n",
       "    <tr>\n",
       "      <th>8142</th>\n",
       "      <td>3834.22</td>\n",
       "      <td>2554</td>\n",
       "    </tr>\n",
       "    <tr>\n",
       "      <th>8143</th>\n",
       "      <td>3834.32</td>\n",
       "      <td>2554</td>\n",
       "    </tr>\n",
       "    <tr>\n",
       "      <th>8144</th>\n",
       "      <td>3834.42</td>\n",
       "      <td>2552</td>\n",
       "    </tr>\n",
       "    <tr>\n",
       "      <th>8145</th>\n",
       "      <td>3834.52</td>\n",
       "      <td>2550</td>\n",
       "    </tr>\n",
       "    <tr>\n",
       "      <th>8146</th>\n",
       "      <td>3834.62</td>\n",
       "      <td>2550</td>\n",
       "    </tr>\n",
       "    <tr>\n",
       "      <th>8147</th>\n",
       "      <td>3834.72</td>\n",
       "      <td>2552</td>\n",
       "    </tr>\n",
       "    <tr>\n",
       "      <th>8148</th>\n",
       "      <td>3834.82</td>\n",
       "      <td>2556</td>\n",
       "    </tr>\n",
       "    <tr>\n",
       "      <th>8149</th>\n",
       "      <td>3834.92</td>\n",
       "      <td>2563</td>\n",
       "    </tr>\n",
       "    <tr>\n",
       "      <th>8150</th>\n",
       "      <td>3835.02</td>\n",
       "      <td>2569</td>\n",
       "    </tr>\n",
       "    <tr>\n",
       "      <th>8151</th>\n",
       "      <td>3835.12</td>\n",
       "      <td>2567</td>\n",
       "    </tr>\n",
       "    <tr>\n",
       "      <th>8152</th>\n",
       "      <td>3835.22</td>\n",
       "      <td>2566</td>\n",
       "    </tr>\n",
       "    <tr>\n",
       "      <th>8153</th>\n",
       "      <td>3835.32</td>\n",
       "      <td>2561</td>\n",
       "    </tr>\n",
       "    <tr>\n",
       "      <th>8154</th>\n",
       "      <td>3835.42</td>\n",
       "      <td>2560</td>\n",
       "    </tr>\n",
       "    <tr>\n",
       "      <th>8155</th>\n",
       "      <td>3835.52</td>\n",
       "      <td>2562</td>\n",
       "    </tr>\n",
       "    <tr>\n",
       "      <th>8156</th>\n",
       "      <td>3835.62</td>\n",
       "      <td>2563</td>\n",
       "    </tr>\n",
       "    <tr>\n",
       "      <th>8157</th>\n",
       "      <td>3835.72</td>\n",
       "      <td>2568</td>\n",
       "    </tr>\n",
       "    <tr>\n",
       "      <th>8158</th>\n",
       "      <td>3835.82</td>\n",
       "      <td>2567</td>\n",
       "    </tr>\n",
       "    <tr>\n",
       "      <th>8159</th>\n",
       "      <td>3835.92</td>\n",
       "      <td>2568</td>\n",
       "    </tr>\n",
       "  </tbody>\n",
       "</table>\n",
       "<p>8160 rows × 2 columns</p>\n",
       "</div>"
      ],
      "text/plain": [
       "      field,G  intensity,a.u.\n",
       "0     3019.00            2537\n",
       "1     3019.10            2537\n",
       "2     3019.20            2537\n",
       "3     3019.30            2536\n",
       "4     3019.40            2535\n",
       "5     3019.50            2534\n",
       "6     3019.60            2531\n",
       "7     3019.70            2533\n",
       "8     3019.80            2530\n",
       "9     3019.90            2528\n",
       "10    3020.00            2526\n",
       "11    3020.10            2525\n",
       "12    3020.20            2529\n",
       "13    3020.30            2527\n",
       "14    3020.40            2526\n",
       "15    3020.50            2526\n",
       "16    3020.60            2528\n",
       "17    3020.70            2534\n",
       "18    3020.80            2530\n",
       "19    3020.90            2532\n",
       "20    3021.00            2529\n",
       "21    3021.10            2524\n",
       "22    3021.20            2525\n",
       "23    3021.30            2523\n",
       "24    3021.40            2527\n",
       "25    3021.50            2528\n",
       "26    3021.60            2528\n",
       "27    3021.70            2529\n",
       "28    3021.80            2527\n",
       "29    3021.90            2528\n",
       "...       ...             ...\n",
       "8130  3833.02            2556\n",
       "8131  3833.12            2557\n",
       "8132  3833.22            2555\n",
       "8133  3833.32            2553\n",
       "8134  3833.42            2552\n",
       "8135  3833.52            2554\n",
       "8136  3833.62            2552\n",
       "8137  3833.72            2552\n",
       "8138  3833.82            2550\n",
       "8139  3833.92            2554\n",
       "8140  3834.02            2554\n",
       "8141  3834.12            2553\n",
       "8142  3834.22            2554\n",
       "8143  3834.32            2554\n",
       "8144  3834.42            2552\n",
       "8145  3834.52            2550\n",
       "8146  3834.62            2550\n",
       "8147  3834.72            2552\n",
       "8148  3834.82            2556\n",
       "8149  3834.92            2563\n",
       "8150  3835.02            2569\n",
       "8151  3835.12            2567\n",
       "8152  3835.22            2566\n",
       "8153  3835.32            2561\n",
       "8154  3835.42            2560\n",
       "8155  3835.52            2562\n",
       "8156  3835.62            2563\n",
       "8157  3835.72            2568\n",
       "8158  3835.82            2567\n",
       "8159  3835.92            2568\n",
       "\n",
       "[8160 rows x 2 columns]"
      ]
     },
     "execution_count": 65,
     "metadata": {},
     "output_type": "execute_result"
    }
   ],
   "source": [
    "df_mel = pd.read_csv('p3_mel.epr.csv', sep=';')\n",
    "df_mel"
   ]
  },
  {
   "cell_type": "code",
   "execution_count": 60,
   "metadata": {},
   "outputs": [],
   "source": [
    "# Перевод в Эрстеды\n",
    "df_mel['field,G'] = to_oersted(df_mel['field,G'])"
   ]
  },
  {
   "cell_type": "code",
   "execution_count": 62,
   "metadata": {},
   "outputs": [
    {
     "data": {
      "image/png": "[encoded data removed]",
      "text/plain": [
       "<Figure size 432x288 with 1 Axes>"
      ]
     },
     "metadata": {
      "needs_background": "light"
     },
     "output_type": "display_data"
    }
   ],
   "source": [
    "x, y = df_mel['field,G'], df_mel['intensity,a.u.']\n",
    "plot_lines(\n",
    "    (x, y),\n",
    "    x_label=r'$H$, Oersted', y_label=r'intensity, a.u.', title=r'Спектр мела',\n",
    "    save_to='mel.pdf'\n",
    ")"
   ]
  },
  {
   "cell_type": "code",
   "execution_count": 67,
   "metadata": {},
   "outputs": [
    {
     "data": {
      "image/png": "[encoded data removed]",
      "text/plain": [
       "<Figure size 432x288 with 1 Axes>"
      ]
     },
     "metadata": {
      "needs_background": "light"
     },
     "output_type": "display_data"
    }
   ],
   "source": [
    "x_diff, y_diff = x[15::15], np.diff(y[::15])\n",
    "plot_lines(\n",
    "    (x_diff, y_diff),\n",
    "    title='Производная спектра мела', x_label=r'$H$, Oersted', y_label=r'dI/dH, a.u./Oersted', save_to='mel_deriv.pdf'\n",
    ")"
   ]
  },
  {
   "cell_type": "markdown",
   "metadata": {},
   "source": [
    "## Исследование влияния уровня диэлектрических потерь на вид спектров"
   ]
  },
  {
   "cell_type": "code",
   "execution_count": 21,
   "metadata": {},
   "outputs": [],
   "source": [
    "df_A, df_B, df_C = pd.read_csv('p4_A.epr.csv', sep=';'), pd.read_csv('p4_B.epr.csv', sep=';'), pd.read_csv('p4_C.epr.csv', sep=';')"
   ]
  },
  {
   "cell_type": "code",
   "execution_count": 22,
   "metadata": {},
   "outputs": [],
   "source": [
    "df_A['field,G'] = to_oersted(df_A['field,G'])\n",
    "df_B['field,G'] = to_oersted(df_B['field,G'])\n",
    "df_C['field,G'] = to_oersted(df_C['field,G'])"
   ]
  },
  {
   "cell_type": "code",
   "execution_count": 23,
   "metadata": {},
   "outputs": [
    {
     "data": {
      "text/html": [
       "<div>\n",
       "<style scoped>\n",
       "    .dataframe tbody tr th:only-of-type {\n",
       "        vertical-align: middle;\n",
       "    }\n",
       "\n",
       "    .dataframe tbody tr th {\n",
       "        vertical-align: top;\n",
       "    }\n",
       "\n",
       "    .dataframe thead th {\n",
       "        text-align: right;\n",
       "    }\n",
       "</style>\n",
       "<table border=\"1\" class=\"dataframe\">\n",
       "  <thead>\n",
       "    <tr style=\"text-align: right;\">\n",
       "      <th></th>\n",
       "      <th>field,G</th>\n",
       "      <th>intensity,a.u.</th>\n",
       "    </tr>\n",
       "  </thead>\n",
       "  <tbody>\n",
       "    <tr>\n",
       "      <th>0</th>\n",
       "      <td>37.784731</td>\n",
       "      <td>2310</td>\n",
       "    </tr>\n",
       "    <tr>\n",
       "      <th>1</th>\n",
       "      <td>37.785982</td>\n",
       "      <td>2306</td>\n",
       "    </tr>\n",
       "    <tr>\n",
       "      <th>2</th>\n",
       "      <td>37.787234</td>\n",
       "      <td>2302</td>\n",
       "    </tr>\n",
       "    <tr>\n",
       "      <th>3</th>\n",
       "      <td>37.788486</td>\n",
       "      <td>2300</td>\n",
       "    </tr>\n",
       "    <tr>\n",
       "      <th>4</th>\n",
       "      <td>37.789737</td>\n",
       "      <td>2294</td>\n",
       "    </tr>\n",
       "  </tbody>\n",
       "</table>\n",
       "</div>"
      ],
      "text/plain": [
       "     field,G  intensity,a.u.\n",
       "0  37.784731            2310\n",
       "1  37.785982            2306\n",
       "2  37.787234            2302\n",
       "3  37.788486            2300\n",
       "4  37.789737            2294"
      ]
     },
     "execution_count": 23,
     "metadata": {},
     "output_type": "execute_result"
    }
   ],
   "source": [
    "df_A.head()"
   ]
  },
  {
   "cell_type": "code",
   "execution_count": 24,
   "metadata": {},
   "outputs": [
    {
     "data": {
      "text/html": [
       "<div>\n",
       "<style scoped>\n",
       "    .dataframe tbody tr th:only-of-type {\n",
       "        vertical-align: middle;\n",
       "    }\n",
       "\n",
       "    .dataframe tbody tr th {\n",
       "        vertical-align: top;\n",
       "    }\n",
       "\n",
       "    .dataframe thead th {\n",
       "        text-align: right;\n",
       "    }\n",
       "</style>\n",
       "<table border=\"1\" class=\"dataframe\">\n",
       "  <thead>\n",
       "    <tr style=\"text-align: right;\">\n",
       "      <th></th>\n",
       "      <th>field,G</th>\n",
       "      <th>intensity,a.u.</th>\n",
       "    </tr>\n",
       "  </thead>\n",
       "  <tbody>\n",
       "    <tr>\n",
       "      <th>0</th>\n",
       "      <td>37.784731</td>\n",
       "      <td>2223</td>\n",
       "    </tr>\n",
       "    <tr>\n",
       "      <th>1</th>\n",
       "      <td>37.785982</td>\n",
       "      <td>2224</td>\n",
       "    </tr>\n",
       "    <tr>\n",
       "      <th>2</th>\n",
       "      <td>37.787234</td>\n",
       "      <td>2224</td>\n",
       "    </tr>\n",
       "    <tr>\n",
       "      <th>3</th>\n",
       "      <td>37.788486</td>\n",
       "      <td>2225</td>\n",
       "    </tr>\n",
       "    <tr>\n",
       "      <th>4</th>\n",
       "      <td>37.789737</td>\n",
       "      <td>2224</td>\n",
       "    </tr>\n",
       "  </tbody>\n",
       "</table>\n",
       "</div>"
      ],
      "text/plain": [
       "     field,G  intensity,a.u.\n",
       "0  37.784731            2223\n",
       "1  37.785982            2224\n",
       "2  37.787234            2224\n",
       "3  37.788486            2225\n",
       "4  37.789737            2224"
      ]
     },
     "execution_count": 24,
     "metadata": {},
     "output_type": "execute_result"
    }
   ],
   "source": [
    "df_B.head()"
   ]
  },
  {
   "cell_type": "code",
   "execution_count": 25,
   "metadata": {},
   "outputs": [
    {
     "data": {
      "text/html": [
       "<div>\n",
       "<style scoped>\n",
       "    .dataframe tbody tr th:only-of-type {\n",
       "        vertical-align: middle;\n",
       "    }\n",
       "\n",
       "    .dataframe tbody tr th {\n",
       "        vertical-align: top;\n",
       "    }\n",
       "\n",
       "    .dataframe thead th {\n",
       "        text-align: right;\n",
       "    }\n",
       "</style>\n",
       "<table border=\"1\" class=\"dataframe\">\n",
       "  <thead>\n",
       "    <tr style=\"text-align: right;\">\n",
       "      <th></th>\n",
       "      <th>field,G</th>\n",
       "      <th>intensity,a.u.</th>\n",
       "    </tr>\n",
       "  </thead>\n",
       "  <tbody>\n",
       "    <tr>\n",
       "      <th>0</th>\n",
       "      <td>37.784731</td>\n",
       "      <td>2193</td>\n",
       "    </tr>\n",
       "    <tr>\n",
       "      <th>1</th>\n",
       "      <td>37.785982</td>\n",
       "      <td>2171</td>\n",
       "    </tr>\n",
       "    <tr>\n",
       "      <th>2</th>\n",
       "      <td>37.787234</td>\n",
       "      <td>2147</td>\n",
       "    </tr>\n",
       "    <tr>\n",
       "      <th>3</th>\n",
       "      <td>37.788486</td>\n",
       "      <td>2133</td>\n",
       "    </tr>\n",
       "    <tr>\n",
       "      <th>4</th>\n",
       "      <td>37.789737</td>\n",
       "      <td>2126</td>\n",
       "    </tr>\n",
       "  </tbody>\n",
       "</table>\n",
       "</div>"
      ],
      "text/plain": [
       "     field,G  intensity,a.u.\n",
       "0  37.784731            2193\n",
       "1  37.785982            2171\n",
       "2  37.787234            2147\n",
       "3  37.788486            2133\n",
       "4  37.789737            2126"
      ]
     },
     "execution_count": 25,
     "metadata": {},
     "output_type": "execute_result"
    }
   ],
   "source": [
    "df_C.head()"
   ]
  },
  {
   "cell_type": "code",
   "execution_count": 33,
   "metadata": {},
   "outputs": [
    {
     "data": {
      "image/png": "[encoded data removed]",
      "text/plain": [
       "<Figure size 432x288 with 1 Axes>"
      ]
     },
     "metadata": {
      "needs_background": "light"
     },
     "output_type": "display_data"
    }
   ],
   "source": [
    "plot_lines(\n",
    "    (df_A['field,G'], df_A['intensity,a.u.'], 'Capillary'),\n",
    "    (df_B['field,G'], df_B['intensity,a.u.'], 'Solute'),\n",
    "    (df_C['field,G'], df_C['intensity,a.u.'], 'Solute+water'),\n",
    "    x_label=r'$H$, Oersted', y_label=r'intensity, a.u.', title=r'Спектры при разных диэлектрических потерях', \n",
    "    legend_position='lower right',\n",
    "    save_to='dielect.pdf'\n",
    ")"
   ]
  },
  {
   "cell_type": "markdown",
   "metadata": {},
   "source": [
    "## Зависимость поглощения $S$ от концентрации"
   ]
  },
  {
   "cell_type": "code",
   "execution_count": 27,
   "metadata": {},
   "outputs": [
    {
     "data": {
      "text/html": [
       "<div>\n",
       "<style scoped>\n",
       "    .dataframe tbody tr th:only-of-type {\n",
       "        vertical-align: middle;\n",
       "    }\n",
       "\n",
       "    .dataframe tbody tr th {\n",
       "        vertical-align: top;\n",
       "    }\n",
       "\n",
       "    .dataframe thead th {\n",
       "        text-align: right;\n",
       "    }\n",
       "</style>\n",
       "<table border=\"1\" class=\"dataframe\">\n",
       "  <thead>\n",
       "    <tr style=\"text-align: right;\">\n",
       "      <th></th>\n",
       "      <th>C</th>\n",
       "      <th>Y_max,mV</th>\n",
       "      <th>DeltaH,O</th>\n",
       "      <th>S</th>\n",
       "    </tr>\n",
       "  </thead>\n",
       "  <tbody>\n",
       "    <tr>\n",
       "      <th>0</th>\n",
       "      <td>0.05</td>\n",
       "      <td>116.0</td>\n",
       "      <td>20.5</td>\n",
       "      <td>48749.0000</td>\n",
       "    </tr>\n",
       "    <tr>\n",
       "      <th>1</th>\n",
       "      <td>0.10</td>\n",
       "      <td>259.5</td>\n",
       "      <td>18.9</td>\n",
       "      <td>92695.9950</td>\n",
       "    </tr>\n",
       "    <tr>\n",
       "      <th>2</th>\n",
       "      <td>0.20</td>\n",
       "      <td>237.5</td>\n",
       "      <td>23.2</td>\n",
       "      <td>127832.0000</td>\n",
       "    </tr>\n",
       "    <tr>\n",
       "      <th>3</th>\n",
       "      <td>0.40</td>\n",
       "      <td>373.0</td>\n",
       "      <td>25.4</td>\n",
       "      <td>240644.6800</td>\n",
       "    </tr>\n",
       "    <tr>\n",
       "      <th>4</th>\n",
       "      <td>0.80</td>\n",
       "      <td>237.5</td>\n",
       "      <td>38.9</td>\n",
       "      <td>299489.4792</td>\n",
       "    </tr>\n",
       "  </tbody>\n",
       "</table>\n",
       "</div>"
      ],
      "text/plain": [
       "      C  Y_max,mV  DeltaH,O            S\n",
       "0  0.05     116.0      20.5   48749.0000\n",
       "1  0.10     259.5      18.9   92695.9950\n",
       "2  0.20     237.5      23.2  127832.0000\n",
       "3  0.40     373.0      25.4  240644.6800\n",
       "4  0.80     237.5      38.9  299489.4792"
      ]
     },
     "execution_count": 27,
     "metadata": {},
     "output_type": "execute_result"
    }
   ],
   "source": [
    "df_S = pd.read_csv('p2_S_C.csv', sep=';')\n",
    "df_S"
   ]
  },
  {
   "cell_type": "code",
   "execution_count": 28,
   "metadata": {},
   "outputs": [],
   "source": [
    "x, y = df_S['C'], df_S['S']/10**5"
   ]
  },
  {
   "cell_type": "code",
   "execution_count": 29,
   "metadata": {},
   "outputs": [],
   "source": [
    "from scipy.optimize import curve_fit\n",
    "x_pred = np.linspace(np.min(x),np. max(x), 10**4)\n",
    "f_theor = lambda x, a, b, c: a - b/(1+c*x**2)\n",
    "\n",
    "popt, pcov = curve_fit(f_theor, x, y)\n",
    "f_opt = lambda x: f_theor(x, *popt)\n",
    "y_pred = [f_opt(m) for m in x_pred]"
   ]
  },
  {
   "cell_type": "code",
   "execution_count": 30,
   "metadata": {},
   "outputs": [
    {
     "data": {
      "text/plain": [
       "array([ 3.36417455,  2.87760541, 11.37904272])"
      ]
     },
     "execution_count": 30,
     "metadata": {},
     "output_type": "execute_result"
    }
   ],
   "source": [
    "popt"
   ]
  },
  {
   "cell_type": "code",
   "execution_count": 31,
   "metadata": {},
   "outputs": [],
   "source": [
    "rounded_coefs = [str(round(t, 2)) for t in popt]"
   ]
  },
  {
   "cell_type": "code",
   "execution_count": 32,
   "metadata": {},
   "outputs": [
    {
     "data": {
      "image/png": "[encoded data removed]",
      "text/plain": [
       "<Figure size 432x288 with 1 Axes>"
      ]
     },
     "metadata": {
      "needs_background": "light"
     },
     "output_type": "display_data"
    }
   ],
   "source": [
    "plot_lines(\n",
    "    (x, y, 'Experiment'),\n",
    "    (x_pred, y_pred , r'%s - $\\dfrac{%s}{1 + %s x^2}$' % \n",
    "     (rounded_coefs[0], rounded_coefs[1], rounded_coefs[2]), True),\n",
    "    x_label=r'C, M', y_label=r'S, $10^5 \\cdot$ Oersted$^2 \\cdot$ mV', is_scatter=True,\n",
    "    legend_position='lower right', title=r'Зависимость $S = f(C)$',\n",
    "    save_to='S_from_C.pdf'\n",
    ")"
   ]
  },
  {
   "cell_type": "code",
   "execution_count": null,
   "metadata": {},
   "outputs": [],
   "source": []
  }
 ],
 "metadata": {
  "kernelspec": {
   "display_name": "Python 3",
   "language": "python",
   "name": "python3"
  },
  "language_info": {
   "codemirror_mode": {
    "name": "ipython",
    "version": 3
   },
   "file_extension": ".py",
   "mimetype": "text/x-python",
   "name": "python",
   "nbconvert_exporter": "python",
   "pygments_lexer": "ipython3",
   "version": "3.7.2"
  }
 },
 "nbformat": 4,
 "nbformat_minor": 2
}
